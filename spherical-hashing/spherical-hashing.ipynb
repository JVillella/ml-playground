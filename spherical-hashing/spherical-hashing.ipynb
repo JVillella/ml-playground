{
 "cells": [
  {
   "cell_type": "markdown",
   "metadata": {},
   "source": [
    "# Spherical Hashing ([paper](http://ai2-s2-pdfs.s3.amazonaws.com/d705/b079cde9b247dcca2ab7124d9f81e733bb36.pdf))\n",
    "- Uses SIFT dataset available at [http://corpus-texmex.irisa.fr/](http://corpus-texmex.irisa.fr/).\n",
    "- XXX: Add usage instructions..."
   ]
  },
  {
   "cell_type": "code",
   "execution_count": 1,
   "metadata": {
    "collapsed": true
   },
   "outputs": [],
   "source": [
    "%load_ext autoreload\n",
    "%autoreload 2"
   ]
  },
  {
   "cell_type": "code",
   "execution_count": 2,
   "metadata": {
    "collapsed": true
   },
   "outputs": [],
   "source": [
    "import numpy as np\n",
    "import numpy.matlib"
   ]
  },
  {
   "cell_type": "code",
   "execution_count": 4,
   "metadata": {
    "collapsed": true
   },
   "outputs": [],
   "source": [
    "def spherical_hash(embeddings, num_bits):\n",
    "    m, dimen = embeddings.shape\n",
    "    m_4 = m / 4.0\n",
    "\n",
    "    centers = random_centers(embeddings, num_bits)\n",
    "    o1, o2, radii, avg, stddev = compute_statistics(embeddings, centers)\n",
    "\n",
    "    iter_max = 100\n",
    "    iterations = 1\n",
    "    while True:\n",
    "        # Force computation based on intersection of each pair of hyper-spheres\n",
    "        forces = np.zeros((num_bits, dimen))\n",
    "        for i in range(num_bits - 1):\n",
    "            for j in range(i + 1, num_bits):\n",
    "                force = 0.5 * (o2[i, j] - m_4) / m_4 * (centers[i, :] - centers[j, :])\n",
    "                forces[i, :] += force / float(num_bits)\n",
    "                forces[j, :] -= force / float(num_bits)\n",
    "\n",
    "        # Apply forces\n",
    "        centers += forces\n",
    "        o1, o2, radii, avg, stddev = compute_statistics(embeddings, centers)\n",
    "\n",
    "        if avg <= 0.1 * m_4 and stddev <= 0.15 * m_4:\n",
    "            break\n",
    "\n",
    "        if iterations >= iter_max:\n",
    "            print('Iterations exeeded %d, iter=%d, avg=%f, stddev=%f' \\\n",
    "                % (iter_max, iterations, avg, stddev))\n",
    "            return\n",
    "\n",
    "        iterations += 1\n",
    "\n",
    "    return centers, radii\n",
    "\n",
    "def random_centers(embeddings, num_bits):\n",
    "    m, dimen = embeddings.shape\n",
    "    centers = np.zeros((num_bits, dimen))\n",
    "    for i in range(num_bits):\n",
    "        R = np.random.randint(0, m, m)\n",
    "        sample = embeddings[R[:5], :]\n",
    "        sample = np.sum(sample, axis=0) / 5\n",
    "        centers[i, :] = sample[:]\n",
    "    return centers\n",
    "\n",
    "def compute_statistics(embeddings, centers):\n",
    "    m, dimen = embeddings.shape\n",
    "    num_bits = centers.shape[0]\n",
    "\n",
    "    dist = dist_mat_euclid(centers, embeddings)\n",
    "    sorted_dist = np.sort(dist, axis=1)\n",
    "    radii = sorted_dist[:, m / 2]\n",
    "\n",
    "    dist = dist <= np.matlib.repmat(radii, m, 1).T # ?\n",
    "    dist = dist * 1.0 # bool -> real\n",
    "\n",
    "    # TODO: Off by +1?\n",
    "    o1 = np.sum(dist, axis=1)\n",
    "    o2 = np.matmul(dist, dist.T)\n",
    "    avg, avg2 = 0, 0\n",
    "    for i in range(num_bits - 1):\n",
    "        for j in range(i + 1, num_bits):\n",
    "            avg += abs(o2[i, j] - m / 4.0)\n",
    "            avg2 += o2[i, j]\n",
    "\n",
    "    num_bits_sqrd = (num_bits * (num_bits - 1) / 2.0)\n",
    "    avg /= num_bits_sqrd\n",
    "    avg2 /= num_bits_sqrd\n",
    "    stddev = 0\n",
    "    for i in range(num_bits - 1):\n",
    "        for j in range(i + 1, num_bits):\n",
    "            stddev += (o2[i, j] - avg2) ** 2\n",
    "\n",
    "    stddev = np.sqrt(stddev / num_bits_sqrd)\n",
    "    return o1, o2, radii, avg, stddev\n",
    "\n",
    "def dist_mat_euclid(mat1, mat2):\n",
    "    \"\"\"\n",
    "    Euclidian distances between matrix rows.\n",
    "    Output e.x. `[dist(a[0, :], b), dist(a[1, :], b), ...]`\n",
    "    \"\"\"\n",
    "\n",
    "    sqrd1 = np.matlib.repmat(np.square(mat1).sum(axis=1), mat2.shape[0], 1)\n",
    "    sqrd2 = np.matlib.repmat(np.square(mat2).sum(axis=1), mat1.shape[0], 1)\n",
    "    r = np.matmul(mat1, mat2.T)\n",
    "    dist = np.sqrt(sqrd1 + sqrd2.T - 2 * r.T)\n",
    "    return dist.T # TODO: Fix"
   ]
  },
  {
   "cell_type": "code",
   "execution_count": null,
   "metadata": {
    "collapsed": true
   },
   "outputs": [],
   "source": [
    "centers, radii = spherical_hash(embeddings, signature_length)\n",
    "dists = dist_mat(embeddings_test, centers)\n",
    "th = np.matlib.repmat(radii.T, dists.shape[0], 1)\n",
    "\n",
    "bucket_ids = np.zeros(dists.shape)\n",
    "bucket_ids[dists <= th] = 1\n",
    "bucket_ids = bucket_ids.astype(np.uint8).tolist()\n",
    "bucket_ids = map(lambda bid: int(''.join(map(str, bid)), 2), bucket_ids)\n",
    "return bucket_ids\n",
    "\n",
    "embeddings_test_df['bucket_ids'] = spherical_hashing(embeddings_test_df, signature_length)\n",
    "graph_bucket_stats(embeddings_test_df)\n",
    "graph_bucket_cos_vs_true_cos(embeddings_test_df, signature_length=signature_length)\n",
    "display_buckets(embeddings_test_df)"
   ]
  }
 ],
 "metadata": {
  "kernelspec": {
   "display_name": "Python 3",
   "language": "python",
   "name": "python3"
  },
  "language_info": {
   "codemirror_mode": {
    "name": "ipython",
    "version": 3
   },
   "file_extension": ".py",
   "mimetype": "text/x-python",
   "name": "python",
   "nbconvert_exporter": "python",
   "pygments_lexer": "ipython3",
   "version": "3.5.2"
  }
 },
 "nbformat": 4,
 "nbformat_minor": 1
}
