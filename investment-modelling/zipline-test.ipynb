{
 "cells": [
  {
   "cell_type": "markdown",
   "metadata": {},
   "source": [
    "# Zipline Test"
   ]
  },
  {
   "cell_type": "code",
   "execution_count": null,
   "metadata": {
    "collapsed": false
   },
   "outputs": [],
   "source": [
    "%load_ext zipline"
   ]
  },
  {
   "cell_type": "code",
   "execution_count": null,
   "metadata": {
    "collapsed": false
   },
   "outputs": [],
   "source": [
    "%%zipline --start 2000-1-1 --end 2014-1-1\n",
    "from zipline.api import (\n",
    "    history,\n",
    "    order_target,\n",
    "    record,\n",
    "    symbol,\n",
    ")\n",
    "\n",
    "\n",
    "def initialize(context):\n",
    "    context.i = 0\n",
    "\n",
    "\n",
    "def handle_data(context, data):\n",
    "    # Skip first 300 days to get full windows\n",
    "    context.i += 1\n",
    "    if context.i < 300:\n",
    "        return\n",
    "\n",
    "    # Compute averages\n",
    "    # history() has to be called with the same params\n",
    "    # from above and returns a pandas dataframe.\n",
    "    short_mavg = history(100, '1d', 'price').mean()\n",
    "    long_mavg = history(300, '1d', 'price').mean()\n",
    "\n",
    "    sym = symbol('AAPL')\n",
    "\n",
    "    # Trading logic\n",
    "    if short_mavg[sym] > long_mavg[sym]:\n",
    "        # order_target orders as many shares as needed to\n",
    "        # achieve the desired number of shares.\n",
    "        order_target(sym, 100)\n",
    "    elif short_mavg[sym] < long_mavg[sym]:\n",
    "        order_target(sym, 0)\n",
    "\n",
    "    # Save values for later inspection\n",
    "    record(AAPL=data[sym].price,\n",
    "           short_mavg=short_mavg[sym],\n",
    "           long_mavg=long_mavg[sym])"
   ]
  },
  {
   "cell_type": "code",
   "execution_count": null,
   "metadata": {
    "collapsed": true
   },
   "outputs": [],
   "source": []
  }
 ],
 "metadata": {
  "kernelspec": {
   "display_name": "Python 3",
   "language": "python",
   "name": "python3"
  },
  "language_info": {
   "codemirror_mode": {
    "name": "ipython",
    "version": 3
   },
   "file_extension": ".py",
   "mimetype": "text/x-python",
   "name": "python",
   "nbconvert_exporter": "python",
   "pygments_lexer": "ipython3",
   "version": "3.5.2"
  }
 },
 "nbformat": 4,
 "nbformat_minor": 2
}
