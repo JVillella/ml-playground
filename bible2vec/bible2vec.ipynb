{
 "cells": [
  {
   "cell_type": "markdown",
   "metadata": {
    "deletable": true,
    "editable": true
   },
   "source": [
    "# Bible2vec\n",
    "\n",
    "*Use Word2vec to find related scriptures.*\n",
    "\n",
    "After reading our Bible dataset we create \"scripture embeddings\" by taking the mean vector of the scipture's individual word embeddings. Similar scriptures are those that have a high cosine similarity between their mean vectors."
   ]
  },
  {
   "cell_type": "code",
   "execution_count": 1,
   "metadata": {
    "collapsed": false,
    "deletable": true,
    "editable": true
   },
   "outputs": [
    {
     "name": "stderr",
     "output_type": "stream",
     "text": [
      "/Users/JVillella/Development/ml-playground/bible2vec/venv/lib/python3.5/site-packages/gensim/utils.py:1015: UserWarning: Pattern library is not installed, lemmatization won't be available.\n",
      "  warnings.warn(\"Pattern library is not installed, lemmatization won't be available.\")\n"
     ]
    }
   ],
   "source": [
    "from gensim.models import Word2Vec\n",
    "import numpy as np\n",
    "from nltk.corpus import stopwords\n",
    "from nltk.stem.snowball import SnowballStemmer\n",
    "import re\n",
    "from os import path\n",
    "import glob\n",
    "import pickle"
   ]
  },
  {
   "cell_type": "markdown",
   "metadata": {
    "deletable": true,
    "editable": true
   },
   "source": [
    "Configure paths"
   ]
  },
  {
   "cell_type": "code",
   "execution_count": 2,
   "metadata": {
    "collapsed": false,
    "deletable": true,
    "editable": true
   },
   "outputs": [],
   "source": [
    "WIKIPEDIA_W2V_PATH = '../wiki2vec/data/enwiki.model'\n",
    "DATA_DIR = './data'\n",
    "BIBLE_DIR = path.join(DATA_DIR, 'bible')\n",
    "\n",
    "# Path to save bible embeddings\n",
    "EMBEDDINGS_PATH = path.join(DATA_DIR, 'embeddings.pkl')"
   ]
  },
  {
   "cell_type": "markdown",
   "metadata": {
    "deletable": true,
    "editable": true
   },
   "source": [
    "## Read Bible"
   ]
  },
  {
   "cell_type": "code",
   "execution_count": 3,
   "metadata": {
    "collapsed": true,
    "deletable": true,
    "editable": true
   },
   "outputs": [],
   "source": [
    "def get_scripture_id(book, chapter, verse):\n",
    "    book = book.lower().replace(' ', '')\n",
    "    return '%s-%d-%d' % (book, chapter, verse)"
   ]
  },
  {
   "cell_type": "code",
   "execution_count": 4,
   "metadata": {
    "collapsed": false,
    "deletable": true,
    "editable": true
   },
   "outputs": [],
   "source": [
    "def read_bible():\n",
    "    \"\"\"Returns dictionary of { scripture_id: verse }.\"\"\"\n",
    "    \n",
    "    pattern = path.join(BIBLE_DIR, '*')\n",
    "    book_names = glob.glob(pattern)\n",
    "\n",
    "    book_names = list(map(path.basename, book_names))\n",
    "    sciptures = map(read_book, book_names)\n",
    "    \n",
    "    bible = {}\n",
    "    for book_idx, book in enumerate(sciptures):\n",
    "        for chapter_idx, chapter in enumerate(book):\n",
    "            for verse_idx, verse in enumerate(chapter):\n",
    "                book_name = book_names[book_idx]\n",
    "                s_id = get_scripture_id(book_name, chapter_idx + 1, verse_idx + 1)\n",
    "                bible[s_id] = verse\n",
    "    \n",
    "    return bible\n",
    "\n",
    "def read_book(book):\n",
    "    pattern = path.join(BIBLE_DIR, '%s/*.txt' % book)\n",
    "    n_chapters = len(glob.glob(pattern))\n",
    "    chapters = [read_chapter(book, n) for n in range(1, n_chapters+1)]\n",
    "    return chapters\n",
    "    \n",
    "def read_chapter(book, chapter):\n",
    "    filename = path.join(BIBLE_DIR, '%s/%s%d.txt' % (book, book, chapter))\n",
    "    with open(filename, 'rt') as f:\n",
    "        lines = f.readlines()\n",
    "        lines = [re.sub(r'\\d+\\s', '', l.rstrip()) for l in lines]\n",
    "    return lines"
   ]
  },
  {
   "cell_type": "markdown",
   "metadata": {
    "deletable": true,
    "editable": true
   },
   "source": [
    "## Setup Word2Vec Model"
   ]
  },
  {
   "cell_type": "code",
   "execution_count": 5,
   "metadata": {
    "collapsed": true,
    "deletable": true,
    "editable": true
   },
   "outputs": [],
   "source": [
    "def word_vec(model, words, normalize=False):\n",
    "    words = filter(lambda w: w in model.vocab, words)\n",
    "    vecs = np.array([model[w] for w in words])\n",
    "    vec = vecs.mean(axis=0)\n",
    "    if normalize:\n",
    "        vec = vec / np.linalg.norm(vec)\n",
    "    return vec"
   ]
  },
  {
   "cell_type": "code",
   "execution_count": 6,
   "metadata": {
    "collapsed": false,
    "deletable": true,
    "editable": true
   },
   "outputs": [],
   "source": [
    "def tokenize(line, stemmer=None, stopwords=None):\n",
    "    line = re.sub(r'[^\\w\\s]+', ' ', line)\n",
    "    line = re.sub(r'\\s+', ' ', line)\n",
    "    line = line.strip().lower()\n",
    "    words = line.split()    \n",
    "\n",
    "    if stemmer is not None:\n",
    "        words = [stemmer.stem(w) for w in words if w not in stopwords]\n",
    "\n",
    "    if stopwords is not None:\n",
    "        words = [w for w in words if w not in stopwords]\n",
    "    \n",
    "    return words"
   ]
  },
  {
   "cell_type": "markdown",
   "metadata": {
    "deletable": true,
    "editable": true
   },
   "source": [
    "Load pretrained Wikipedia word2vec model"
   ]
  },
  {
   "cell_type": "code",
   "execution_count": 7,
   "metadata": {
    "collapsed": false,
    "deletable": true,
    "editable": true
   },
   "outputs": [],
   "source": [
    "model = Word2Vec.load(WIKIPEDIA_W2V_PATH)"
   ]
  },
  {
   "cell_type": "code",
   "execution_count": 8,
   "metadata": {
    "collapsed": true,
    "deletable": true,
    "editable": true
   },
   "outputs": [],
   "source": [
    "stemmer = SnowballStemmer('english')\n",
    "stops = stopwords.words('english')"
   ]
  },
  {
   "cell_type": "markdown",
   "metadata": {
    "deletable": true,
    "editable": true
   },
   "source": [
    "## Calculate Scripture Similarities"
   ]
  },
  {
   "cell_type": "markdown",
   "metadata": {
    "deletable": true,
    "editable": true
   },
   "source": [
    "scripture id -> scripture text"
   ]
  },
  {
   "cell_type": "code",
   "execution_count": 9,
   "metadata": {
    "collapsed": false,
    "deletable": true,
    "editable": true
   },
   "outputs": [
    {
     "name": "stdout",
     "output_type": "stream",
     "text": [
      "31102 scriptures\n"
     ]
    }
   ],
   "source": [
    "scriptures = read_bible()\n",
    "\n",
    "print('%s scriptures' % len(scriptures))"
   ]
  },
  {
   "cell_type": "markdown",
   "metadata": {
    "deletable": true,
    "editable": true
   },
   "source": [
    "embedding idx -> embedding"
   ]
  },
  {
   "cell_type": "code",
   "execution_count": 10,
   "metadata": {
    "collapsed": false,
    "deletable": true,
    "editable": true
   },
   "outputs": [
    {
     "name": "stderr",
     "output_type": "stream",
     "text": [
      "/Users/JVillella/Development/ml-playground/bible2vec/venv/lib/python3.5/site-packages/numpy/core/_methods.py:59: RuntimeWarning: Mean of empty slice.\n",
      "  warnings.warn(\"Mean of empty slice.\", RuntimeWarning)\n",
      "/Users/JVillella/Development/ml-playground/bible2vec/venv/lib/python3.5/site-packages/numpy/core/_methods.py:70: RuntimeWarning: invalid value encountered in double_scalars\n",
      "  ret = ret.dtype.type(ret / rcount)\n"
     ]
    }
   ],
   "source": [
    "embeddings = [word_vec(model, tokenize(verse, stemmer=stemmer, stopwords=stops), normalize=True)\n",
    "                       for verse in scriptures.values()]"
   ]
  },
  {
   "cell_type": "code",
   "execution_count": 11,
   "metadata": {
    "collapsed": false,
    "deletable": true,
    "editable": true
   },
   "outputs": [
    {
     "name": "stdout",
     "output_type": "stream",
     "text": [
      "Embeddings shape:  (31102, 400)\n"
     ]
    }
   ],
   "source": [
    "def nans(shape, dtype=float):\n",
    "    a = np.empty(shape, dtype)\n",
    "    a.fill(np.nan)\n",
    "    return a\n",
    "\n",
    "# HACK: If word_vec(...) returns nan, turn it into a nan row so we can vstack. Improve this.\n",
    "embeddings = [nans(400) if np.isnan(e).any() else e for e in embeddings]\n",
    "embeddings = np.vstack(embeddings)\n",
    "\n",
    "print('Embeddings shape: ', embeddings.shape)"
   ]
  },
  {
   "cell_type": "markdown",
   "metadata": {
    "deletable": true,
    "editable": true
   },
   "source": [
    "scripture id -> embedding idx"
   ]
  },
  {
   "cell_type": "code",
   "execution_count": 12,
   "metadata": {
    "collapsed": true,
    "deletable": true,
    "editable": true
   },
   "outputs": [],
   "source": [
    "script_ids = scriptures.keys()\n",
    "embedding_idxs = range(embeddings.shape[0])\n",
    "\n",
    "script_id_embedding_idx = dict(zip(script_ids, embedding_idxs))"
   ]
  },
  {
   "cell_type": "markdown",
   "metadata": {
    "deletable": true,
    "editable": true
   },
   "source": [
    "embedding idx -> scripture id"
   ]
  },
  {
   "cell_type": "code",
   "execution_count": 13,
   "metadata": {
    "collapsed": true,
    "deletable": true,
    "editable": true
   },
   "outputs": [],
   "source": [
    "embedding_idx_script_id = dict(zip(embedding_idxs, script_ids))"
   ]
  },
  {
   "cell_type": "markdown",
   "metadata": {
    "deletable": true,
    "editable": true
   },
   "source": [
    "## Save Data"
   ]
  },
  {
   "cell_type": "code",
   "execution_count": 14,
   "metadata": {
    "collapsed": false,
    "deletable": true,
    "editable": true
   },
   "outputs": [],
   "source": [
    "with open(EMBEDDINGS_PATH, 'wb') as f:\n",
    "    pickle.dump({\n",
    "        'scriptures': scriptures,\n",
    "        'embeddings': embeddings,\n",
    "        'script_id_embedding_idx': script_id_embedding_idx,\n",
    "        'embedding_idx_script_id': embedding_idx_script_id\n",
    "    }, f)"
   ]
  },
  {
   "cell_type": "markdown",
   "metadata": {
    "deletable": true,
    "editable": true
   },
   "source": [
    "## Test Results"
   ]
  },
  {
   "cell_type": "code",
   "execution_count": 15,
   "metadata": {
    "collapsed": true,
    "deletable": true,
    "editable": true
   },
   "outputs": [],
   "source": [
    "from IPython.display import HTML"
   ]
  },
  {
   "cell_type": "code",
   "execution_count": 16,
   "metadata": {
    "collapsed": true,
    "deletable": true,
    "editable": true
   },
   "outputs": [],
   "source": [
    "def similar_scriptures(scripture_id, top_k=0, drop_first=True):\n",
    "    \"\"\"Assumes all embeddings have been normalized.\"\"\"\n",
    "    \n",
    "    embedding_idx = script_id_embedding_idx[scripture_id]\n",
    "    embedding = embeddings[embedding_idx]\n",
    "    \n",
    "    cosines = embeddings.dot(embedding)\n",
    "    indexes = np.argsort(-cosines)\n",
    "\n",
    "    if drop_first:\n",
    "        indexes = indexes[1:]\n",
    "\n",
    "    if top_k > 0:\n",
    "        indexes = indexes[:top_k]\n",
    "    return [(embedding_idx_script_id[index], scriptures[embedding_idx_script_id[index]], cosines[index], index)\n",
    "            for index in indexes]"
   ]
  },
  {
   "cell_type": "code",
   "execution_count": 17,
   "metadata": {
    "collapsed": true,
    "deletable": true,
    "editable": true
   },
   "outputs": [],
   "source": [
    "def similar_scriptures_html(scripture_id, top_k=15):   \n",
    "    def row_html(s):\n",
    "        row_pattern = \"\"\"\n",
    "            <td>{s_id}</td>\n",
    "            <td>{scripture}</td>\n",
    "            <td>{score}</td>\n",
    "        \"\"\"\n",
    "        row = row_pattern.format(s_id=s[0], scripture=s[1],\n",
    "                                 score=np.round(s[2], decimals=2))\n",
    "        return row\n",
    "    \n",
    "    similar = similar_scriptures(scripture_id, top_k=top_k)\n",
    "    rows = map(row_html, similar)\n",
    "    rows = ['<tr>\\n%s\\n</tr>' % r for r in rows]\n",
    "    \n",
    "    columns = ['Scripture ID', 'Scripture', 'Score']\n",
    "    headers = ['<th>%s</th>' % h for h in columns]\n",
    "    header_row = '<tr>\\n%s\\n</tr>' % '\\n'.join(headers)\n",
    "\n",
    "    rows = [header_row] + rows\n",
    "    table = '<table>\\n{}\\n</table>'.format('\\n'.join(rows))\n",
    "    header = '<h3>Query: (%s) %s</h3>' % (scripture_id, scriptures[scripture_id])\n",
    "    return header + table"
   ]
  },
  {
   "cell_type": "code",
   "execution_count": 18,
   "metadata": {
    "collapsed": false,
    "deletable": true,
    "editable": true
   },
   "outputs": [
    {
     "data": {
      "text/html": [
       "<h3>Query: (genesis-1-1) In the beginning God created the heaven and the earth.</h3><table>\n",
       "<tr>\n",
       "<th>Scripture ID</th>\n",
       "<th>Scripture</th>\n",
       "<th>Score</th>\n",
       "</tr>\n",
       "<tr>\n",
       "\n",
       "            <td>genesis-2-4</td>\n",
       "            <td>These are the generations of the heavens and of the earth when they were created, in the day that the LORD God made the earth and the heavens,</td>\n",
       "            <td>0.86</td>\n",
       "        \n",
       "</tr>\n",
       "<tr>\n",
       "\n",
       "            <td>genesis-6-13</td>\n",
       "            <td>And God said unto Noah, The end of all flesh is come before me; for the earth is filled with violence through them; and, behold, I will destroy them with the earth.</td>\n",
       "            <td>0.81</td>\n",
       "        \n",
       "</tr>\n",
       "<tr>\n",
       "\n",
       "            <td>1kings-8-27</td>\n",
       "            <td>But will God indeed dwell on the earth? behold, the heaven and heaven of heavens cannot contain thee; how much less this house that I have builded?</td>\n",
       "            <td>0.8</td>\n",
       "        \n",
       "</tr>\n",
       "<tr>\n",
       "\n",
       "            <td>genesis-1-17</td>\n",
       "            <td>And God set them in the firmament of the heaven to give light upon the earth,</td>\n",
       "            <td>0.8</td>\n",
       "        \n",
       "</tr>\n",
       "<tr>\n",
       "\n",
       "            <td>john-1-2</td>\n",
       "            <td>The same was in the beginning with God.</td>\n",
       "            <td>0.78</td>\n",
       "        \n",
       "</tr>\n",
       "<tr>\n",
       "\n",
       "            <td>genesis-6-17</td>\n",
       "            <td>And, behold, I, even I, do bring a flood of waters upon the earth, to destroy all flesh, wherein is the breath of life, from under heaven; and every thing that is in the earth shall die.</td>\n",
       "            <td>0.78</td>\n",
       "        \n",
       "</tr>\n",
       "<tr>\n",
       "\n",
       "            <td>psalms-113-6</td>\n",
       "            <td>Who humbleth himself to behold the things that are in heaven, and in the earth!</td>\n",
       "            <td>0.78</td>\n",
       "        \n",
       "</tr>\n",
       "<tr>\n",
       "\n",
       "            <td>jeremiah-22-29</td>\n",
       "            <td>O earth, earth, earth, hear the word of the LORD.</td>\n",
       "            <td>0.77</td>\n",
       "        \n",
       "</tr>\n",
       "<tr>\n",
       "\n",
       "            <td>psalms-68-8</td>\n",
       "            <td>The earth shook, the heavens also dropped at the presence of God: even Sinai itself was moved at the presence of God, the God of Israel.</td>\n",
       "            <td>0.77</td>\n",
       "        \n",
       "</tr>\n",
       "<tr>\n",
       "\n",
       "            <td>deuteronomy-10-14</td>\n",
       "            <td>Behold, the heaven and the heaven of heavens is the LORD's thy God, the earth also, with all that therein is.</td>\n",
       "            <td>0.77</td>\n",
       "        \n",
       "</tr>\n",
       "<tr>\n",
       "\n",
       "            <td>revelation-14-19</td>\n",
       "            <td>And the angel thrust in his sickle into the earth, and gathered the vine of the earth, and cast it into the great winepress of the wrath of God.</td>\n",
       "            <td>0.77</td>\n",
       "        \n",
       "</tr>\n",
       "<tr>\n",
       "\n",
       "            <td>joshua-2-11</td>\n",
       "            <td>And as soon as we had heard these things, our hearts did melt, neither did there remain any more courage in any man, because of you: for the LORD your God, he is God in heaven above, and in earth beneath.</td>\n",
       "            <td>0.77</td>\n",
       "        \n",
       "</tr>\n",
       "<tr>\n",
       "\n",
       "            <td>2chronicles-6-18</td>\n",
       "            <td>But will God in very deed dwell with men on the earth? behold, heaven and the heaven of heavens cannot contain thee; how much less this house which I have built!</td>\n",
       "            <td>0.77</td>\n",
       "        \n",
       "</tr>\n",
       "<tr>\n",
       "\n",
       "            <td>genesis-28-12</td>\n",
       "            <td>And he dreamed, and behold a ladder set up on the earth, and the top of it reached to heaven: and behold the angels of God ascending and descending on it.</td>\n",
       "            <td>0.77</td>\n",
       "        \n",
       "</tr>\n",
       "<tr>\n",
       "\n",
       "            <td>isaiah-42-5</td>\n",
       "            <td>Thus saith God the LORD, he that created the heavens, and stretched them out; he that spread forth the earth, and that which cometh out of it; he that giveth breath unto the people upon it, and spirit to them that walk therein:</td>\n",
       "            <td>0.76</td>\n",
       "        \n",
       "</tr>\n",
       "</table>"
      ],
      "text/plain": [
       "<IPython.core.display.HTML object>"
      ]
     },
     "execution_count": 18,
     "metadata": {},
     "output_type": "execute_result"
    }
   ],
   "source": [
    "scripture_id = get_scripture_id('Genesis', 1, 1)\n",
    "\n",
    "HTML(similar_scriptures_html(scripture_id))"
   ]
  }
 ],
 "metadata": {
  "kernelspec": {
   "display_name": "Python 3",
   "language": "python",
   "name": "python3"
  },
  "language_info": {
   "codemirror_mode": {
    "name": "ipython",
    "version": 3
   },
   "file_extension": ".py",
   "mimetype": "text/x-python",
   "name": "python",
   "nbconvert_exporter": "python",
   "pygments_lexer": "ipython3",
   "version": "3.5.2"
  }
 },
 "nbformat": 4,
 "nbformat_minor": 2
}
