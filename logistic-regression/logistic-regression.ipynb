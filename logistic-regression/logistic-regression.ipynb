{
 "cells": [
  {
   "cell_type": "markdown",
   "metadata": {},
   "source": [
    "# Logistic Regression"
   ]
  },
  {
   "cell_type": "markdown",
   "metadata": {},
   "source": [
    "#### Prediction\n",
    "$$\n",
    "\\hat{y} = \\boldsymbol{w}^\\top\\boldsymbol{x}\n",
    "$$\n",
    "\n",
    "Where,\n",
    "* $\\boldsymbol{x} \\in \\mathbb{R}^n$ is our vector input\n",
    "* $\\boldsymbol{y} \\in \\mathbb{R}$ is our true output\n",
    "* $\\boldsymbol{w} \\in \\mathbb{R}$ is a vector of _parameters_\n",
    "* $\\hat{y}$ is the value our model predicts $y$ to be\n",
    "\n",
    "---\n",
    "\n",
    "#### Measure Performance\n",
    "(mean squared error)\n",
    "$$\n",
    "\\mathrm{MSE} = \\frac{1}{m} \\left \\| \\boldsymbol{\\hat{y}} - \\boldsymbol{y} \\right \\|^2_2\n",
    "$$\n",
    "\n",
    "---\n",
    "\n",
    "#### ~~Learning~~\n",
    "~~(<a href=\"https://en.wikipedia.org/wiki/Linear_least_squares_(mathematics)#Derivation_of_the_normal_equations\">Normal Equation</a>: Minimizes the sum of the squared differences between $\\hat{y}$ and $\\boldsymbol{w}^\\top\\boldsymbol{x}$)~~\n",
    "\n",
    "$$\n",
    "\\begin{equation*}\n",
    "\\nabla\\mathrm{MSE} = 0 \\\\\n",
    "\\vdots \\\\\n",
    "\\boldsymbol{w} = (\\boldsymbol{X}^{\\top} \\boldsymbol{X})^{-1} \\boldsymbol{X}^{\\top}\\boldsymbol{y}\n",
    "\\end{equation*}\n",
    "$$\n",
    "\n",
    "---\n",
    "\n",
    "#### Training\n",
    "\n",
    "..."
   ]
  },
  {
   "cell_type": "code",
   "execution_count": 1,
   "metadata": {
    "collapsed": true
   },
   "outputs": [],
   "source": [
    "%load_ext autoreload\n",
    "%autoreload 2"
   ]
  },
  {
   "cell_type": "code",
   "execution_count": 2,
   "metadata": {
    "collapsed": true
   },
   "outputs": [],
   "source": [
    "import numpy as np\n",
    "from utils import read"
   ]
  },
  {
   "cell_type": "code",
   "execution_count": 3,
   "metadata": {
    "collapsed": true
   },
   "outputs": [],
   "source": [
    "# def norm_eqn(X, y):\n",
    "#     \"\"\"Uses the normal equations to solve for theta analytically.\"\"\"\n",
    "#     inv_x_T_x = np.linalg.pinv(X.T @ X)\n",
    "#     theta = (inv_x_T_x @ X.T) @ y\n",
    "#     return theta\n",
    "\n",
    "def predict(X, theta):\n",
    "    return X @ theta\n",
    "\n",
    "def accuracy(y, y_true):\n",
    "    return np.mean(y == y_true)"
   ]
  },
  {
   "cell_type": "code",
   "execution_count": 4,
   "metadata": {
    "collapsed": false
   },
   "outputs": [
    {
     "name": "stdout",
     "output_type": "stream",
     "text": [
      "Training set X=(5000, 784), y=(5000, 1)\n"
     ]
    }
   ],
   "source": [
    "X_train, y_train = read(dataset='train')\n",
    "X_train = X_train.reshape(len(X_train), -1).astype(np.float32)\n",
    "y_train = y_train.reshape(len(y_train), -1).astype(np.float32)\n",
    "\n",
    "# Limit for speed\n",
    "m = 5000; X_train, y_train = X_train[:m, :], y_train[:m]\n",
    "\n",
    "print('Training set X=%s, y=%s' % (X_train.shape, y_train.shape))"
   ]
  },
  {
   "cell_type": "code",
   "execution_count": 5,
   "metadata": {
    "collapsed": false
   },
   "outputs": [
    {
     "name": "stdout",
     "output_type": "stream",
     "text": [
      "Test set X=(1000, 784), y=(1000, 1)\n"
     ]
    }
   ],
   "source": [
    "X_test, y_test = read(dataset='test')\n",
    "X_test = X_test.reshape(len(X_test), -1).astype(np.float32)\n",
    "y_test = y_test.reshape(len(y_test), -1).astype(np.float32)\n",
    "\n",
    "# Limit for speed\n",
    "m = 1000; X_test, y_test = X_test[:m, :], y_test[:m]\n",
    "\n",
    "print('Test set X=%s, y=%s' % (X_test.shape, y_test.shape))"
   ]
  },
  {
   "cell_type": "code",
   "execution_count": 6,
   "metadata": {
    "collapsed": false
   },
   "outputs": [
    {
     "data": {
      "text/plain": [
       "0.0"
      ]
     },
     "execution_count": 6,
     "metadata": {},
     "output_type": "execute_result"
    }
   ],
   "source": [
    "# theta = norm_eqn(X_train, y_train)\n",
    "# predictions = predict(X_test, theta)\n",
    "# accuracy(predictions, y_test)"
   ]
  },
  {
   "cell_type": "code",
   "execution_count": null,
   "metadata": {
    "collapsed": true
   },
   "outputs": [],
   "source": []
  }
 ],
 "metadata": {
  "kernelspec": {
   "display_name": "Python 3",
   "language": "python",
   "name": "python3"
  },
  "language_info": {
   "codemirror_mode": {
    "name": "ipython",
    "version": 3
   },
   "file_extension": ".py",
   "mimetype": "text/x-python",
   "name": "python",
   "nbconvert_exporter": "python",
   "pygments_lexer": "ipython3",
   "version": "3.5.2"
  }
 },
 "nbformat": 4,
 "nbformat_minor": 1
}
