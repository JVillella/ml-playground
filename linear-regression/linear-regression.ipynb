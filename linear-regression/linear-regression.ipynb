{
 "cells": [
  {
   "cell_type": "markdown",
   "metadata": {},
   "source": [
    "# Linear Regression"
   ]
  },
  {
   "cell_type": "markdown",
   "metadata": {},
   "source": [
    "#### Prediction\n",
    "$$\n",
    "\\hat{y} = \\boldsymbol{w}^\\top\\boldsymbol{x}\n",
    "$$\n",
    "\n",
    "Where,\n",
    "* $\\boldsymbol{x} \\in \\mathbb{R}^n$ is our vector input\n",
    "* $\\boldsymbol{y} \\in \\mathbb{R}$ is our true output\n",
    "* $\\boldsymbol{w} \\in \\mathbb{R}$ is a vector of _parameters_\n",
    "* $\\hat{y}$ is the value our model predicts $y$ to be\n",
    "\n",
    "---\n",
    "\n",
    "#### Measure Performance\n",
    "(mean squared error)\n",
    "$$\n",
    "\\mathrm{MSE} = \\frac{1}{m} \\left \\| \\boldsymbol{\\hat{y}} - \\boldsymbol{y} \\right \\|^2_2\n",
    "$$\n",
    "\n",
    "---\n",
    "\n",
    "#### Learning\n",
    "$$\n",
    "\\begin{equation*}\n",
    "\\nabla\\mathrm{MSE} = 0 \\\\\n",
    "\\vdots \\\\\n",
    "\\boldsymbol{w} = (\\boldsymbol{X}^{\\top} \\boldsymbol{X})^{-1} \\boldsymbol{X}^{\\top}\\boldsymbol{y}\n",
    "\\end{equation*}\n",
    "$$\n"
   ]
  },
  {
   "cell_type": "code",
   "execution_count": 1,
   "metadata": {},
   "outputs": [],
   "source": [
    "%load_ext autoreload\n",
    "%autoreload 2"
   ]
  },
  {
   "cell_type": "code",
   "execution_count": 2,
   "metadata": {},
   "outputs": [],
   "source": [
    "import numpy as np\n",
    "from utils import read"
   ]
  },
  {
   "cell_type": "code",
   "execution_count": 3,
   "metadata": {},
   "outputs": [],
   "source": [
    "X_train, y_train = read(dataset='train')"
   ]
  }
 ],
 "metadata": {
  "kernelspec": {
   "display_name": "Python 3",
   "language": "python",
   "name": "python3"
  },
  "language_info": {
   "codemirror_mode": {
    "name": "ipython",
    "version": 3
   },
   "file_extension": ".py",
   "mimetype": "text/x-python",
   "name": "python",
   "nbconvert_exporter": "python",
   "pygments_lexer": "ipython3",
   "version": "3.5.2"
  }
 },
 "nbformat": 4,
 "nbformat_minor": 1
}
